{
 "cells": [
  {
   "cell_type": "code",
   "execution_count": 1,
   "metadata": {
    "collapsed": true
   },
   "outputs": [],
   "source": [
    "from bs4 import BeautifulSoup\n",
    "from datetime import datetime\n",
    "from dateutil import parser\n",
    "import requests"
   ]
  },
  {
   "cell_type": "code",
   "execution_count": 2,
   "metadata": {
    "collapsed": true
   },
   "outputs": [],
   "source": [
    "URL = 'http://www.musee-orsay.fr/en/events/exhibitions/in-the-musee-dorsay.html'"
   ]
  },
  {
   "cell_type": "code",
   "execution_count": 3,
   "metadata": {
    "collapsed": false
   },
   "outputs": [],
   "source": [
    "html_doc = requests.get(URL).text"
   ]
  },
  {
   "cell_type": "code",
   "execution_count": 4,
   "metadata": {
    "collapsed": true
   },
   "outputs": [],
   "source": [
    "soup = BeautifulSoup(html_doc, 'html.parser')"
   ]
  },
  {
   "cell_type": "code",
   "execution_count": 5,
   "metadata": {
    "collapsed": false
   },
   "outputs": [],
   "source": [
    "exhibition_tags = soup.select('div.newslistcontent')"
   ]
  },
  {
   "cell_type": "code",
   "execution_count": 6,
   "metadata": {
    "collapsed": false,
    "scrolled": true
   },
   "outputs": [
    {
     "name": "stdout",
     "output_type": "stream",
     "text": [
      "The Spectacular Second Empire, 1852-1870 2016-09-27 00:00:00 2017-01-15 00:00:00\n",
      "Frédéric Bazille (1841-1870). The Youth of Impressionism. 2016-11-15 00:00:00 2017-03-05 00:00:00\n",
      "Beyond Stars. The Mystical Landscape from Monet to Kandinsky 2017-03-14 00:00:00 2017-06-25 00:00:00\n"
     ]
    }
   ],
   "source": [
    "for exhibition_tag in exhibition_tags:\n",
    "    event_category = exhibition_tag.select_one('.eventcategory').string\n",
    "    if event_category != 'Exhibition':\n",
    "        continue\n",
    "\n",
    "    title = exhibition_tag.select_one('.eventshort').string\n",
    "\n",
    "    dates_string = exhibition_tag.select_one('.eventdates').contents[0].string\n",
    "    start_date_string, end_date_string = dates_string.split(' - ')\n",
    "\n",
    "    end_date = parser.parse(end_date_string)\n",
    "    start_date = parser.parse(start_date_string, default=end_date)\n",
    "\n",
    "    print(title, start_date, end_date)"
   ]
  },
  {
   "cell_type": "code",
   "execution_count": null,
   "metadata": {
    "collapsed": true
   },
   "outputs": [],
   "source": []
  }
 ],
 "metadata": {
  "kernelspec": {
   "display_name": "Python 3",
   "language": "python",
   "name": "python3"
  },
  "language_info": {
   "codemirror_mode": {
    "name": "ipython",
    "version": 3
   },
   "file_extension": ".py",
   "mimetype": "text/x-python",
   "name": "python",
   "nbconvert_exporter": "python",
   "pygments_lexer": "ipython3",
   "version": "3.5.2"
  }
 },
 "nbformat": 4,
 "nbformat_minor": 1
}
